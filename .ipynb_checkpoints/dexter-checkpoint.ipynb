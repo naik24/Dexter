{
 "cells": [
  {
   "cell_type": "code",
   "execution_count": 1,
   "id": "1bf2094d-c35d-4d20-be3f-f067c14c3c62",
   "metadata": {},
   "outputs": [
    {
     "name": "stdout",
     "output_type": "stream",
     "text": [
      "\u001b[33mWARNING: Ignoring invalid distribution -bclassic (/Library/Frameworks/Python.framework/Versions/3.10/lib/python3.10/site-packages)\u001b[0m\u001b[33m\n",
      "\u001b[0mCollecting tf2onnx (from -r requirements.txt (line 1))\n",
      "  Downloading tf2onnx-1.16.1-py3-none-any.whl.metadata (1.3 kB)\n",
      "Requirement already satisfied: fireworks-ai in /Library/Frameworks/Python.framework/Versions/3.10/lib/python3.10/site-packages (from -r requirements.txt (line 2)) (0.14.0)\n",
      "Collecting pdf2image (from -r requirements.txt (line 3))\n",
      "  Downloading pdf2image-1.17.0-py3-none-any.whl.metadata (6.2 kB)\n",
      "Requirement already satisfied: pillow in /Library/Frameworks/Python.framework/Versions/3.10/lib/python3.10/site-packages (from -r requirements.txt (line 4)) (10.2.0)\n",
      "Requirement already satisfied: numpy>=1.14.1 in /Library/Frameworks/Python.framework/Versions/3.10/lib/python3.10/site-packages (from tf2onnx->-r requirements.txt (line 1)) (1.24.3)\n",
      "Requirement already satisfied: onnx>=1.4.1 in /Library/Frameworks/Python.framework/Versions/3.10/lib/python3.10/site-packages (from tf2onnx->-r requirements.txt (line 1)) (1.16.1)\n",
      "Requirement already satisfied: requests in /Library/Frameworks/Python.framework/Versions/3.10/lib/python3.10/site-packages (from tf2onnx->-r requirements.txt (line 1)) (2.31.0)\n",
      "Requirement already satisfied: six in /Library/Frameworks/Python.framework/Versions/3.10/lib/python3.10/site-packages (from tf2onnx->-r requirements.txt (line 1)) (1.16.0)\n",
      "Requirement already satisfied: flatbuffers>=1.12 in /Library/Frameworks/Python.framework/Versions/3.10/lib/python3.10/site-packages (from tf2onnx->-r requirements.txt (line 1)) (24.3.25)\n",
      "Collecting protobuf~=3.20 (from tf2onnx->-r requirements.txt (line 1))\n",
      "  Downloading protobuf-3.20.3-py2.py3-none-any.whl.metadata (720 bytes)\n",
      "Requirement already satisfied: httpx in /Library/Frameworks/Python.framework/Versions/3.10/lib/python3.10/site-packages (from fireworks-ai->-r requirements.txt (line 2)) (0.27.0)\n",
      "Requirement already satisfied: httpx-sse in /Library/Frameworks/Python.framework/Versions/3.10/lib/python3.10/site-packages (from fireworks-ai->-r requirements.txt (line 2)) (0.4.0)\n",
      "Requirement already satisfied: pydantic in /Library/Frameworks/Python.framework/Versions/3.10/lib/python3.10/site-packages (from fireworks-ai->-r requirements.txt (line 2)) (2.7.4)\n",
      "Requirement already satisfied: anyio in /Library/Frameworks/Python.framework/Versions/3.10/lib/python3.10/site-packages (from httpx->fireworks-ai->-r requirements.txt (line 2)) (3.6.2)\n",
      "Requirement already satisfied: certifi in /Library/Frameworks/Python.framework/Versions/3.10/lib/python3.10/site-packages (from httpx->fireworks-ai->-r requirements.txt (line 2)) (2023.7.22)\n",
      "Requirement already satisfied: httpcore==1.* in /Library/Frameworks/Python.framework/Versions/3.10/lib/python3.10/site-packages (from httpx->fireworks-ai->-r requirements.txt (line 2)) (1.0.5)\n",
      "Requirement already satisfied: idna in /Library/Frameworks/Python.framework/Versions/3.10/lib/python3.10/site-packages (from httpx->fireworks-ai->-r requirements.txt (line 2)) (2.10)\n",
      "Requirement already satisfied: sniffio in /Library/Frameworks/Python.framework/Versions/3.10/lib/python3.10/site-packages (from httpx->fireworks-ai->-r requirements.txt (line 2)) (1.3.0)\n",
      "Requirement already satisfied: h11<0.15,>=0.13 in /Library/Frameworks/Python.framework/Versions/3.10/lib/python3.10/site-packages (from httpcore==1.*->httpx->fireworks-ai->-r requirements.txt (line 2)) (0.14.0)\n",
      "Requirement already satisfied: annotated-types>=0.4.0 in /Library/Frameworks/Python.framework/Versions/3.10/lib/python3.10/site-packages (from pydantic->fireworks-ai->-r requirements.txt (line 2)) (0.6.0)\n",
      "Requirement already satisfied: pydantic-core==2.18.4 in /Library/Frameworks/Python.framework/Versions/3.10/lib/python3.10/site-packages (from pydantic->fireworks-ai->-r requirements.txt (line 2)) (2.18.4)\n",
      "Requirement already satisfied: typing-extensions>=4.6.1 in /Library/Frameworks/Python.framework/Versions/3.10/lib/python3.10/site-packages (from pydantic->fireworks-ai->-r requirements.txt (line 2)) (4.11.0)\n",
      "Requirement already satisfied: charset-normalizer<4,>=2 in /Library/Frameworks/Python.framework/Versions/3.10/lib/python3.10/site-packages (from requests->tf2onnx->-r requirements.txt (line 1)) (3.3.2)\n",
      "Requirement already satisfied: urllib3<3,>=1.21.1 in /Library/Frameworks/Python.framework/Versions/3.10/lib/python3.10/site-packages (from requests->tf2onnx->-r requirements.txt (line 1)) (2.2.2)\n",
      "Downloading tf2onnx-1.16.1-py3-none-any.whl (455 kB)\n",
      "\u001b[2K   \u001b[90m━━━━━━━━━━━━━━━━━━━━━━━━━━━━━━━━━━━━━━━━\u001b[0m \u001b[32m455.8/455.8 kB\u001b[0m \u001b[31m10.3 MB/s\u001b[0m eta \u001b[36m0:00:00\u001b[0ma \u001b[36m0:00:01\u001b[0m\n",
      "\u001b[?25hDownloading pdf2image-1.17.0-py3-none-any.whl (11 kB)\n",
      "Downloading protobuf-3.20.3-py2.py3-none-any.whl (162 kB)\n",
      "\u001b[2K   \u001b[90m━━━━━━━━━━━━━━━━━━━━━━━━━━━━━━━━━━━━━━━━\u001b[0m \u001b[32m162.1/162.1 kB\u001b[0m \u001b[31m19.9 MB/s\u001b[0m eta \u001b[36m0:00:00\u001b[0m\n",
      "\u001b[?25h\u001b[33mWARNING: Error parsing dependencies of omegaconf: .* suffix can only be used with `==` or `!=` operators\n",
      "    PyYAML (>=5.1.*)\n",
      "            ~~~~~~^\u001b[0m\u001b[33m\n",
      "\u001b[0m\u001b[33mWARNING: Ignoring invalid distribution -bclassic (/Library/Frameworks/Python.framework/Versions/3.10/lib/python3.10/site-packages)\u001b[0m\u001b[33m\n",
      "\u001b[0mInstalling collected packages: protobuf, pdf2image, tf2onnx\n",
      "  Attempting uninstall: protobuf\n",
      "    Found existing installation: protobuf 4.23.3\n",
      "    Uninstalling protobuf-4.23.3:\n",
      "      Successfully uninstalled protobuf-4.23.3\n",
      "\u001b[31mERROR: pip's dependency resolver does not currently take into account all the packages that are installed. This behaviour is the source of the following dependency conflicts.\n",
      "tensorboardx 2.6.1 requires protobuf>=4.22.3, but you have protobuf 3.20.3 which is incompatible.\n",
      "tensorflow-macos 2.10.0 requires keras<2.11,>=2.10.0, but you have keras 3.3.3 which is incompatible.\n",
      "tensorflow-macos 2.10.0 requires protobuf<3.20,>=3.9.2, but you have protobuf 3.20.3 which is incompatible.\n",
      "tensorflow-macos 2.10.0 requires tensorboard<2.11,>=2.10, but you have tensorboard 2.16.2 which is incompatible.\u001b[0m\u001b[31m\n",
      "\u001b[0mSuccessfully installed pdf2image-1.17.0 protobuf-3.20.3 tf2onnx-1.16.1\n",
      "\n",
      "\u001b[1m[\u001b[0m\u001b[34;49mnotice\u001b[0m\u001b[1;39;49m]\u001b[0m\u001b[39;49m A new release of pip is available: \u001b[0m\u001b[31;49m24.1\u001b[0m\u001b[39;49m -> \u001b[0m\u001b[32;49m24.1.2\u001b[0m\n",
      "\u001b[1m[\u001b[0m\u001b[34;49mnotice\u001b[0m\u001b[1;39;49m]\u001b[0m\u001b[39;49m To update, run: \u001b[0m\u001b[32;49mpip install --upgrade pip\u001b[0m\n"
     ]
    }
   ],
   "source": [
    "!pip install -r requirements.txt"
   ]
  },
  {
   "cell_type": "code",
   "execution_count": 2,
   "id": "7e444ddf-678e-4f52-8c98-3f49e2a0dddf",
   "metadata": {},
   "outputs": [],
   "source": [
    "import fireworks.client\n",
    "import base64\n",
    "import json\n",
    "from PIL import Image\n",
    "from pdf2image import convert_from_path"
   ]
  },
  {
   "cell_type": "code",
   "execution_count": 3,
   "id": "c35c326a-414f-4472-a7cb-6df1b4c0f0a5",
   "metadata": {},
   "outputs": [],
   "source": [
    "def dexter(file: str):\n",
    "  file_name = file.split(\".\")[0]\n",
    "  file_extension = file.split(\".\")[-1]\n",
    "\n",
    "  if file_extension == 'jpg' or file_extension == 'jpeg' or file_extension == 'png':\n",
    "    result = model(file)\n",
    "  elif file_extension == 'tif':\n",
    "    tif_file = Image.open(file)\n",
    "    tif_file.save(f\"{file_name}.jpeg\")\n",
    "    result = model(f\"{file_name}.jpeg\")\n",
    "  elif file_extension == 'pdf':\n",
    "    images = convert_from_path(file)\n",
    "    first_page = images[0].convert('RGB')\n",
    "    first_page.save(f\"{file_name}.jpeg\")\n",
    "    result = model(f\"{file_name}.jpeg\")\n",
    "  else:\n",
    "    print(\"Please upload a valid file\")\n",
    "    return\n",
    "\n",
    "  return result"
   ]
  },
  {
   "cell_type": "code",
   "execution_count": 19,
   "id": "55cd41c1-e1d8-488a-973f-be0e98e31f19",
   "metadata": {},
   "outputs": [],
   "source": [
    "# Helper function to encode the image\n",
    "def encode_image(image_path):\n",
    "  with open(image_path, \"rb\") as image_file:\n",
    "    return base64.b64encode(image_file.read()).decode('utf-8')\n",
    "\n",
    "def model(filename: str) -> str:\n",
    "  docs = [\n",
    "    \"birth certificate\",\n",
    "    \"driving licence\",\n",
    "    \"passport\",\n",
    "    \"resume\",\n",
    "    \"report\",\n",
    "    \"memo\",\n",
    "    \"death certificate\",\n",
    "    \"letter\",\n",
    "    \"statement\",\n",
    "    \"contract\",\n",
    "    \"adhaar card\",\n",
    "    \"social security number\"\n",
    "  ]\n",
    "  file_extension = filename.split(\".\")[-1]\n",
    "  image_base64 = encode_image(filename)\n",
    "\n",
    "  fireworks.client.api_key = \"hTmLdao0XGOLNQvqvOmDVPUgrd6LJb8hy6DBAJlbtoOT16wr\" # need to hide this\n",
    "\n",
    "  response = fireworks.client.ChatCompletion.create(\n",
    "    model = \"accounts/fireworks/models/firellava-13b\",\n",
    "    messages = [\n",
    "      {\n",
    "      \"role\": \"system\",\n",
    "      \"content\": f\"You are an AI Assistant expert in classifying documents into one of the following categories: {docs}. Also, print the organization to whom the document belongs.\"\n",
    "      },\n",
    "      {\n",
    "      \"role\": \"user\",\n",
    "      \"content\": [{\n",
    "        \"type\": \"text\",\n",
    "        \"text\":  f\"\"\"Analyze the image and classify it into one of the following categories: {docs}. Just print the category and organization to whom the document belongs. Print the output strictly in JSON format.\"\"\",\n",
    "        },\n",
    "        {\n",
    "        \"type\": \"image_url\",\n",
    "        \"image_url\": {\n",
    "          \"url\": f\"data:image/{file_extension};base64,{image_base64}\"\n",
    "          },\n",
    "        },],\n",
    "      }],\n",
    "  )\n",
    "  output = response.choices[0].message.content\n",
    "\n",
    "  # converting output to json\n",
    "  #\n",
    "  output = json.loads(output)\n",
    "  return output"
   ]
  },
  {
   "cell_type": "code",
   "execution_count": 26,
   "id": "78cbd283-7442-4536-b5ec-2fdc1367c36f",
   "metadata": {},
   "outputs": [],
   "source": [
    "res = dexter(\"sample_images/sample_5.jpeg\")"
   ]
  },
  {
   "cell_type": "markdown",
   "id": "1d1d2529-e9bd-4262-8220-e7d922625ce1",
   "metadata": {},
   "source": [
    "# Streamlit"
   ]
  },
  {
   "cell_type": "code",
   "execution_count": 28,
   "id": "f07fabfa-0b78-431c-876d-4ea7c0e4c9df",
   "metadata": {},
   "outputs": [],
   "source": [
    "import streamlit as st\n",
    "\n",
    "uploaded_file = st.file_uploader(\"Choose a file\")\n",
    "if uploaded_file is not None:\n",
    "    bytes_data = uploaded_file.getvalue()\n",
    "    st.write(bytes_data)"
   ]
  },
  {
   "cell_type": "code",
   "execution_count": null,
   "id": "1643fb21-fc6f-447e-90df-8666397abf75",
   "metadata": {},
   "outputs": [],
   "source": []
  }
 ],
 "metadata": {
  "kernelspec": {
   "display_name": "Python 3 (ipykernel)",
   "language": "python",
   "name": "python3"
  },
  "language_info": {
   "codemirror_mode": {
    "name": "ipython",
    "version": 3
   },
   "file_extension": ".py",
   "mimetype": "text/x-python",
   "name": "python",
   "nbconvert_exporter": "python",
   "pygments_lexer": "ipython3",
   "version": "3.10.6"
  }
 },
 "nbformat": 4,
 "nbformat_minor": 5
}
